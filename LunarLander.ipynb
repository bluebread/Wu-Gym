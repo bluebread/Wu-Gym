{
 "cells": [
  {
   "cell_type": "code",
   "execution_count": 1,
   "id": "2a7cbcd9-f144-4c18-9ab3-c178d9a5af24",
   "metadata": {},
   "outputs": [],
   "source": [
    "import gymnasium as gym\n",
    "from IPython import display\n",
    "import matplotlib\n",
    "import matplotlib.pyplot as plt\n",
    "%matplotlib inline\n",
    "\n",
    "env = gym.make('LunarLander-v3', render_mode='rgb_array')"
   ]
  },
  {
   "cell_type": "code",
   "execution_count": 2,
   "id": "923e5764-3e4a-44ed-8b7b-a0431f48a643",
   "metadata": {},
   "outputs": [],
   "source": [
    "from models import DeepQNetwork\n",
    "\n",
    "dqn = DeepQNetwork(env)"
   ]
  },
  {
   "cell_type": "code",
   "execution_count": null,
   "id": "eb277f04-a54b-4153-b51b-d13d66d910bf",
   "metadata": {},
   "outputs": [
    {
     "name": "stdout",
     "output_type": "stream",
     "text": [
      "tensor(3)\n",
      "3\n"
     ]
    }
   ],
   "source": [
    "env.reset()\n",
    "img = plt.imshow(env.render()) # only call this once\n",
    "action = env.action_space.sample()\n",
    "obs, r, terminated, truncated, info = env.step(action)\n",
    "\n",
    "for _ in range(150):\n",
    "    img.set_data(env.render()) # just update the data\n",
    "    display.display(plt.gcf())\n",
    "    display.clear_output(wait=True)\n",
    "    \n",
    "    # action = env.action_space.sample()\n",
    "    action = dqn.take_action(obs)\n",
    "    obs, r, terminated, truncated, info = env.step(action)\n",
    "\n",
    "    if terminated:\n",
    "        break"
   ]
  }
 ],
 "metadata": {
  "kernelspec": {
   "display_name": "Python 3 (ipykernel)",
   "language": "python",
   "name": "python3"
  },
  "language_info": {
   "codemirror_mode": {
    "name": "ipython",
    "version": 3
   },
   "file_extension": ".py",
   "mimetype": "text/x-python",
   "name": "python",
   "nbconvert_exporter": "python",
   "pygments_lexer": "ipython3",
   "version": "3.10.12"
  }
 },
 "nbformat": 4,
 "nbformat_minor": 5
}
